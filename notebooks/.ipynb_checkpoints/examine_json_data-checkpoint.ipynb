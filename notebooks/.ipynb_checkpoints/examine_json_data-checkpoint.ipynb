{
 "cells": [
  {
   "cell_type": "code",
   "execution_count": null,
   "metadata": {},
   "outputs": [],
   "source": [
    "import os\n",
    "os.chdir('..')\n",
    "import pandas as pd"
   ]
  },
  {
   "cell_type": "code",
   "execution_count": null,
   "metadata": {},
   "outputs": [],
   "source": [
    "df_log = pd.read_json('data/log_data/2018/11/2018-11-02-events.json', lines=True)\n",
    "df_log = df_log[df_log['page'].str.contains(\"NextSong\")] # Filter to only NextSong actions\n",
    "#df_log = df_log[df_log['artist'].str.contains(\"Box\")] # Filter to only NextSong actions\n",
    "df_log.head(10)"
   ]
  },
  {
   "cell_type": "code",
   "execution_count": null,
   "metadata": {},
   "outputs": [],
   "source": [
    "df_log['page'].unique()"
   ]
  },
  {
   "cell_type": "code",
   "execution_count": null,
   "metadata": {},
   "outputs": [],
   "source": [
    "df_song = pd.read_json('data/song_data/A/A/A/TRAAAAW128F429D538.json', lines=True)\n",
    "print(df_song.dtypes)\n",
    "df_song.head(5)"
   ]
  }
 ],
 "metadata": {
  "kernelspec": {
   "display_name": "Python 3",
   "language": "python",
   "name": "python3"
  },
  "language_info": {
   "codemirror_mode": {
    "name": "ipython",
    "version": 3
   },
   "file_extension": ".py",
   "mimetype": "text/x-python",
   "name": "python",
   "nbconvert_exporter": "python",
   "pygments_lexer": "ipython3",
   "version": "3.7.6"
  }
 },
 "nbformat": 4,
 "nbformat_minor": 4
}
