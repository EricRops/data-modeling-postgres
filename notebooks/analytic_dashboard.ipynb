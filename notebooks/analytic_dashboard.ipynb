{
 "cells": [
  {
   "cell_type": "markdown",
   "metadata": {},
   "source": [
    "# Analytic \"dashboard\" notebook to do some basic analysis on the song play data"
   ]
  },
  {
   "cell_type": "code",
   "execution_count": null,
   "metadata": {},
   "outputs": [],
   "source": [
    "import os\n",
    "os.chdir('..')\n",
    "import glob\n",
    "import psycopg2\n",
    "from psycopg2 import sql\n",
    "import pandas as pd\n",
    "from sql_queries import *\n",
    "import matplotlib.pyplot as plt\n",
    "import seaborn as sns"
   ]
  },
  {
   "cell_type": "code",
   "execution_count": null,
   "metadata": {},
   "outputs": [],
   "source": [
    "conn = psycopg2.connect(dbstring) # dbstring defined at top of sql_queries.py\n",
    "cur = conn.cursor()"
   ]
  },
  {
   "cell_type": "markdown",
   "metadata": {},
   "source": [
    "### Explore the solution dataset (the songplays table) where the artist and song columns are complete"
   ]
  },
  {
   "cell_type": "code",
   "execution_count": null,
   "metadata": {},
   "outputs": [],
   "source": [
    "query =(\"SELECT * FROM songplays \\\n",
    "        WHERE song_id IS NOT NULL \\\n",
    "        OR artist_id IS NOT NULL;\")\n",
    "cur.execute(query)\n",
    "colnames = [desc[0] for desc in cur.description]\n",
    "results = pd.DataFrame(cur.fetchall(), columns = colnames)\n",
    "results"
   ]
  },
  {
   "cell_type": "markdown",
   "metadata": {},
   "source": [
    "There is only ONE event from the songplays table with non-null song_id or artist_id. \n",
    "This is because there is only ONE NextSong event from the log data with a matching song/artist name\n",
    "to the song data. Therefore, our solution table only has 1 complete row :(."
   ]
  },
  {
   "cell_type": "markdown",
   "metadata": {},
   "source": [
    "### To do more meaningful analysis of the songplay data, we will use the songplays_fill table. The song_id and artist_id columns have been replaced with the song and artist names directly from the log data"
   ]
  },
  {
   "cell_type": "markdown",
   "metadata": {},
   "source": [
    "### What are the top artists from the sparkify data? What are the top artists for just the paid users?\n",
    "### *Run this section twice to get the proper figure to display*    \n",
    "Note: ignore the font warnings when plotting, they seem irrelevant!"
   ]
  },
  {
   "cell_type": "code",
   "execution_count": null,
   "metadata": {},
   "outputs": [],
   "source": [
    "# Top artists for all users\n",
    "query =(\"SELECT artist_name, COUNT(*) AS num_plays \\\n",
    "        FROM songplays_fill \\\n",
    "        GROUP BY 1 ORDER BY 2 DESC LIMIT 15;\")\n",
    "cur.execute(query)\n",
    "colnames = [desc[0] for desc in cur.description]\n",
    "results1 = pd.DataFrame(cur.fetchall(), columns = colnames)\n",
    "\n",
    "# Top artists just for paid users\n",
    "query =(\"SELECT artist_name, COUNT(*) AS num_plays \\\n",
    "        FROM songplays_fill \\\n",
    "        WHERE level = 'paid' \\\n",
    "        GROUP BY 1 ORDER BY 2 DESC LIMIT 15;\")\n",
    "cur.execute(query)\n",
    "colnames = [desc[0] for desc in cur.description]\n",
    "results2 = pd.DataFrame(cur.fetchall(), columns = colnames)\n",
    "\n",
    "# Plot results as a Seaborn barplot (2 subplots)\n",
    "fig, axes = plt.subplots(2, 1)\n",
    "fig.subplots_adjust(hspace=1)\n",
    "sns.set(style=\"whitegrid\")\n",
    "sns.set(rc={'figure.figsize':(15,18)})\n",
    "sns.set(font_scale = 2.5)\n",
    "chart1 = sns.barplot(x=\"artist_name\", y=\"num_plays\", data=results1, ax=axes[0]);\n",
    "chart1.set_xticklabels(chart1.get_xticklabels(), rotation=45, horizontalalignment='right');\n",
    "chart1.set_title(\"Top 15 artists from Sparkify dataset: All users\", weight = \"bold\");\n",
    "chart2 = sns.barplot(x=\"artist_name\", y=\"num_plays\", data=results2, ax=axes[1]);\n",
    "chart2.set_title(\"Top 15 artists from Sparkify dataset: PAID users only\", weight = \"bold\");\n",
    "chart2.set_xticklabels(chart2.get_xticklabels(), rotation=45, horizontalalignment='right');"
   ]
  },
  {
   "cell_type": "markdown",
   "metadata": {},
   "source": [
    "### Findings:\n",
    "- No major differences in the music interests between all users and paid users (same artists, just in slightly different orders)  \n",
    "- Coldplay and Kings of Leon are the 2 most popular artists by a fairly significant margin. This suggests most of the users are rock enthusiasts."
   ]
  },
  {
   "cell_type": "markdown",
   "metadata": {},
   "source": [
    "### Suggestions to improve project:\n",
    "- Ensure that there are **many** more song matches between the song data and the log data. It doesn't seem helpful to construct the songplays table with only 1 NON NULL row with song information.  \n",
    "- Include some other fields such as song genre, and beats-per-minute, so we can do more in depth analysis of what users preferences are."
   ]
  },
  {
   "cell_type": "code",
   "execution_count": null,
   "metadata": {},
   "outputs": [],
   "source": [
    "cur.close()\n",
    "conn.close()"
   ]
  }
 ],
 "metadata": {
  "kernelspec": {
   "display_name": "Python 3",
   "language": "python",
   "name": "python3"
  },
  "language_info": {
   "codemirror_mode": {
    "name": "ipython",
    "version": 3
   },
   "file_extension": ".py",
   "mimetype": "text/x-python",
   "name": "python",
   "nbconvert_exporter": "python",
   "pygments_lexer": "ipython3",
   "version": "3.7.6"
  }
 },
 "nbformat": 4,
 "nbformat_minor": 4
}
